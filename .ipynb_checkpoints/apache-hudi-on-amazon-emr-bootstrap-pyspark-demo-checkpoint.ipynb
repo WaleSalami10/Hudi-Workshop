{
 "cells": [
  {
   "cell_type": "code",
   "execution_count": 1,
   "id": "8906024d",
   "metadata": {
    "scrolled": true
   },
   "outputs": [
    {
     "data": {
      "text/html": [
       "Current session configs: <tt>{'conf': {'spark.jars': '/user/hadoop/hudi/hudi-spark-bundle.jar', 'spark.sql.hive.convertMetastoreParquet': 'false', 'spark.serializer': 'org.apache.spark.serializer.KryoSerializer', 'spark.dynamicAllocation.executorIdleTimeout': 3600, 'spark.executor.memory': '7G', 'spark.executor.cores': 1, 'spark.dynamicAllocation.initialExecutors': 16}, 'proxyUser': 'user_vasveena', 'kind': 'spark'}</tt><br>"
      ],
      "text/plain": [
       "<IPython.core.display.HTML object>"
      ]
     },
     "metadata": {},
     "output_type": "display_data"
    },
    {
     "data": {
      "text/html": [
       "<table>\n",
       "<tr><th>ID</th><th>YARN Application ID</th><th>Kind</th><th>State</th><th>Spark UI</th><th>Driver log</th><th>Current session?</th></tr><tr><td>7</td><td>None</td><td>spark</td><td>starting</td><td></td><td></td><td></td></tr></table>"
      ],
      "text/plain": [
       "<IPython.core.display.HTML object>"
      ]
     },
     "metadata": {},
     "output_type": "display_data"
    }
   ],
   "source": [
    "%%configure -f\n",
    "{\n",
    "    \"conf\":  { \n",
    "             \"spark.jars\":\"/user/hadoop/hudi/hudi-spark-bundle.jar\",\n",
    "             \"spark.sql.hive.convertMetastoreParquet\":\"false\",     \n",
    "             \"spark.serializer\":\"org.apache.spark.serializer.KryoSerializer\",\n",
    "             \"spark.dynamicAllocation.executorIdleTimeout\": 3600,\n",
    "             \"spark.executor.memory\": \"7G\",\n",
    "             \"spark.executor.cores\": 1,\n",
    "             \"spark.dynamicAllocation.initialExecutors\":16\n",
    "           } \n",
    "}"
   ]
  },
  {
   "cell_type": "code",
   "execution_count": 2,
   "id": "49710504",
   "metadata": {},
   "outputs": [
    {
     "data": {
      "application/vnd.jupyter.widget-view+json": {
       "model_id": "d24f8f6c1d14424b9b1ec3f775ae76f7",
       "version_major": 2,
       "version_minor": 0
      },
      "text/plain": [
       "VBox()"
      ]
     },
     "metadata": {},
     "output_type": "display_data"
    },
    {
     "name": "stdout",
     "output_type": "stream",
     "text": [
      "Starting Spark application\n"
     ]
    },
    {
     "data": {
      "text/html": [
       "<table>\n",
       "<tr><th>ID</th><th>YARN Application ID</th><th>Kind</th><th>State</th><th>Spark UI</th><th>Driver log</th><th>Current session?</th></tr><tr><td>8</td><td>application_1630648622561_0013</td><td>spark</td><td>idle</td><td><a target=\"_blank\" href=\"http://ip-172-31-34-219.ec2.internal:20888/proxy/application_1630648622561_0013/\" >Link</a></td><td><a target=\"_blank\" href=\"http://ip-172-31-37-249.ec2.internal:8042/node/containerlogs/container_1630648622561_0013_01_000001/livy\" >Link</a></td><td>✔</td></tr></table>"
      ],
      "text/plain": [
       "<IPython.core.display.HTML object>"
      ]
     },
     "metadata": {},
     "output_type": "display_data"
    },
    {
     "data": {
      "application/vnd.jupyter.widget-view+json": {
       "model_id": "",
       "version_major": 2,
       "version_minor": 0
      },
      "text/plain": [
       "FloatProgress(value=0.0, bar_style='info', description='Progress:', layout=Layout(height='25px', width='50%'),…"
      ]
     },
     "metadata": {},
     "output_type": "display_data"
    },
    {
     "name": "stdout",
     "output_type": "stream",
     "text": [
      "SparkSession available as 'spark'.\n"
     ]
    },
    {
     "data": {
      "application/vnd.jupyter.widget-view+json": {
       "model_id": "",
       "version_major": 2,
       "version_minor": 0
      },
      "text/plain": [
       "FloatProgress(value=0.0, bar_style='info', description='Progress:', layout=Layout(height='25px', width='50%'),…"
      ]
     },
     "metadata": {},
     "output_type": "display_data"
    },
    {
     "name": "stdout",
     "output_type": "stream",
     "text": [
      "res1: String = 3.0.1-amzn-0\n"
     ]
    }
   ],
   "source": [
    "spark.version"
   ]
  },
  {
   "cell_type": "markdown",
   "id": "5148c5d9",
   "metadata": {},
   "source": [
    "```\n",
    "$ aws s3 ls s3://vasveena-test-vanguard/bigtpcparq/orders/ --human-readable | head \n",
    "2019-09-05 02:43:41   24.5 MiB part-00000-f347ec3b-fb72-4137-9d64-9941f3e1bea5-c000.snappy.parquet\n",
    "2019-09-05 02:43:41   24.4 MiB part-00001-f347ec3b-fb72-4137-9d64-9941f3e1bea5-c000.snappy.parquet\n",
    "2019-09-05 02:43:41   24.4 MiB part-00002-f347ec3b-fb72-4137-9d64-9941f3e1bea5-c000.snappy.parquet\n",
    "2019-09-05 02:43:41   24.4 MiB part-00003-f347ec3b-fb72-4137-9d64-9941f3e1bea5-c000.snappy.parquet\n",
    "2019-09-05 02:43:31   24.3 MiB part-00004-f347ec3b-fb72-4137-9d64-9941f3e1bea5-c000.snappy.parquet\n",
    "2019-09-05 02:43:31   24.2 MiB part-00005-f347ec3b-fb72-4137-9d64-9941f3e1bea5-c000.snappy.parquet\n",
    "2019-09-05 02:43:31   24.2 MiB part-00006-f347ec3b-fb72-4137-9d64-9941f3e1bea5-c000.snappy.parquet\n",
    "2019-09-05 02:43:31   24.2 MiB part-00007-f347ec3b-fb72-4137-9d64-9941f3e1bea5-c000.snappy.parquet\n",
    "2019-09-05 02:43:48   24.2 MiB part-00008-f347ec3b-fb72-4137-9d64-9941f3e1bea5-c000.snappy.parquet\n",
    "2019-09-05 02:43:48   24.2 MiB part-00009-f347ec3b-fb72-4137-9d64-9941f3e1bea5-c000.snappy.parquet\n",
    "```"
   ]
  },
  {
   "cell_type": "code",
   "execution_count": 3,
   "id": "6680d528",
   "metadata": {},
   "outputs": [
    {
     "data": {
      "application/vnd.jupyter.widget-view+json": {
       "model_id": "84ddf9f4ea7d4d5d95d473c23e703e3f",
       "version_major": 2,
       "version_minor": 0
      },
      "text/plain": [
       "VBox()"
      ]
     },
     "metadata": {},
     "output_type": "display_data"
    },
    {
     "data": {
      "application/vnd.jupyter.widget-view+json": {
       "model_id": "",
       "version_major": 2,
       "version_minor": 0
      },
      "text/plain": [
       "FloatProgress(value=0.0, bar_style='info', description='Progress:', layout=Layout(height='25px', width='50%'),…"
      ]
     },
     "metadata": {},
     "output_type": "display_data"
    },
    {
     "name": "stdout",
     "output_type": "stream",
     "text": [
      "import org.apache.spark.sql.SaveMode\n",
      "import org.apache.spark.sql.functions._\n",
      "import org.apache.hudi.DataSourceWriteOptions\n",
      "import org.apache.hudi.DataSourceReadOptions\n",
      "import org.apache.hudi.config.HoodieWriteConfig\n",
      "import org.apache.hudi.hive.MultiPartKeysValueExtractor\n",
      "import org.apache.hudi.config.HoodieBootstrapConfig\n",
      "import org.apache.hudi.keygen.SimpleKeyGenerator\n"
     ]
    }
   ],
   "source": [
    "import org.apache.spark.sql.SaveMode\n",
    "import org.apache.spark.sql.functions._\n",
    "import org.apache.hudi.DataSourceWriteOptions\n",
    "import org.apache.hudi.DataSourceReadOptions\n",
    "import org.apache.hudi.config.HoodieWriteConfig\n",
    "import org.apache.hudi.hive.MultiPartKeysValueExtractor\n",
    "import org.apache.hudi.config.HoodieBootstrapConfig\n",
    "import org.apache.hudi.keygen.SimpleKeyGenerator"
   ]
  },
  {
   "cell_type": "code",
   "execution_count": 4,
   "id": "88bdb543",
   "metadata": {},
   "outputs": [
    {
     "data": {
      "application/vnd.jupyter.widget-view+json": {
       "model_id": "fb73e476cae840e1964299a2008109e5",
       "version_major": 2,
       "version_minor": 0
      },
      "text/plain": [
       "VBox()"
      ]
     },
     "metadata": {},
     "output_type": "display_data"
    },
    {
     "data": {
      "application/vnd.jupyter.widget-view+json": {
       "model_id": "",
       "version_major": 2,
       "version_minor": 0
      },
      "text/plain": [
       "FloatProgress(value=0.0, bar_style='info', description='Progress:', layout=Layout(height='25px', width='50%'),…"
      ]
     },
     "metadata": {},
     "output_type": "display_data"
    },
    {
     "name": "stdout",
     "output_type": "stream",
     "text": [
      "t1: Long = 36145008916525\n",
      "sourceDataPath: String = s3://vasveena-test-vanguard/bigtpcparq/orders/\n",
      "hudiTablePath: String = s3://vasveena-test-demo/hudi/hudi_order_table/\n",
      "hudiConfigs: scala.collection.immutable.Map[String,String] = Map(hoodie.datasource.write.operation -> bootstrap, hoodie.datasource.hive_sync.enable -> true, hoodie.datasource.write.recordkey.field -> o_orderkey, hoodie.table.name -> hudi_order_table, hoodie.bootstrap.base.path -> s3://vasveena-test-vanguard/bigtpcparq/orders/, hoodie.bootstrap.keygen.class -> org.apache.hudi.keygen.SimpleKeyGenerator)\n",
      "bootstrapDF: org.apache.spark.sql.DataFrame = []\n",
      "duration: String = 77.498564603 seconds\n"
     ]
    }
   ],
   "source": [
    "val t1 = System.nanoTime\n",
    "\n",
    "val sourceDataPath = \"s3://vasveena-test-vanguard/bigtpcparq/orders/\"\n",
    "// Location for the Hudi table where it generates the metadata\n",
    "val hudiTablePath = \"s3://vasveena-test-demo/hudi/hudi_order_table/\"\n",
    "\n",
    "val hudiConfigs = Map[String,String](\n",
    "  DataSourceWriteOptions.RECORDKEY_FIELD_OPT_KEY -> \"o_orderkey\",\n",
    "  DataSourceWriteOptions.OPERATION_OPT_KEY -> DataSourceWriteOptions.BOOTSTRAP_OPERATION_OPT_VAL,\n",
    "  DataSourceWriteOptions.HIVE_SYNC_ENABLED_OPT_KEY -> \"true\",\n",
    "  HoodieWriteConfig.TABLE_NAME -> \"hudi_order_table\",\n",
    "  HoodieBootstrapConfig.BOOTSTRAP_BASE_PATH_PROP -> sourceDataPath,\n",
    "  HoodieBootstrapConfig.BOOTSTRAP_KEYGEN_CLASS -> classOf[SimpleKeyGenerator].getName)\n",
    "\n",
    "val bootstrapDF = spark.emptyDataFrame\n",
    "\n",
    "bootstrapDF.write.format(\"hudi\").options(hudiConfigs).mode(SaveMode.Overwrite).save(hudiTablePath) \n",
    "\n",
    "val duration = (System.nanoTime - t1) / 1e9d + \" seconds\""
   ]
  },
  {
   "cell_type": "markdown",
   "id": "29c0ac64",
   "metadata": {},
   "source": [
    "```\n",
    "\n",
    "$ aws s3 ls s3://vasveena-test-demo/hudi/hudi_order_table/ --human-readable | head\n",
    "                           PRE .hoodie/\n",
    "2021-09-03 10:33:40    0 Bytes .hoodie_$folder$\n",
    "2021-09-03 10:33:43   93 Bytes .hoodie_partition_metadata\n",
    "2021-09-03 10:33:51    3.0 MiB 0129c29b-cac2-45bc-9723-bbacdf3687c5_529-3-2126_00000000000001.parquet\n",
    "2021-09-03 10:33:52    3.0 MiB 01425881-dd8f-4249-8a75-0767e8f3d1a1_821-3-2418_00000000000001.parquet\n",
    "2021-09-03 10:33:52    3.0 MiB 01a2df6e-6cac-4f44-8ee6-6b51d71cadf5_590-3-2187_00000000000001.parquet\n",
    "2021-09-03 10:33:47    3.0 MiB 0320b901-de18-450f-82e6-4ff981386050_292-3-1889_00000000000001.parquet\n",
    "2021-09-03 10:33:47    3.0 MiB 042f4d75-e794-4b05-b09c-9c6718cc9481_446-3-2043_00000000000001.parquet\n",
    "2021-09-03 10:33:57    3.0 MiB 054aad97-3170-4b2c-8bf0-f82568bc585c_1058-3-2655_00000000000001.parquet\n",
    "2021-09-03 10:33:57    3.0 MiB 06f83341-edea-4c04-8f5c-a3097cfc5cdf_1290-3-2887_00000000000001.parquet\n",
    "\n",
    "```"
   ]
  },
  {
   "cell_type": "code",
   "execution_count": null,
   "id": "8ff8508f",
   "metadata": {},
   "outputs": [],
   "source": [
    "val t1 = System.nanoTime\n",
    "\n",
    "val df = spark.table(\"testdb.vanguardparqorders\")\n",
    "\n",
    "val hudiConfigs = Map[String,String](\n",
    "  DataSourceWriteOptions.OPERATION_OPT_KEY -> \"bulk_insert\",\n",
    "  DataSourceWriteOptions.PRECOMBINE_FIELD_OPT_KEY -> \"o_orderdate\",\n",
    "  DataSourceWriteOptions.RECORDKEY_FIELD_OPT_KEY -> \"o_orderkey\",\n",
    "  DataSourceWriteOptions.HIVE_SYNC_ENABLED_OPT_KEY -> \"true\",\n",
    "  HoodieWriteConfig.TABLE_NAME -> \"hudi_order_table_bulkinsert\")\n",
    "\n",
    "(df.write.format(\"hudi\")\n",
    "      .options(hudiConfigs)\n",
    "      .option(\"hoodie.bulkinsert.shuffle.parallelism\", 3)\n",
    "      .mode(\"overwrite\")\n",
    "      .save(\"s3://vasveena-test-demo/hudi/hudi_order_table_bulkinsert/\"))\n",
    "\n",
    "val duration = (System.nanoTime - t1) / 1e9d + \" seconds\""
   ]
  },
  {
   "cell_type": "code",
   "execution_count": 12,
   "id": "a195940e",
   "metadata": {},
   "outputs": [
    {
     "data": {
      "application/vnd.jupyter.widget-view+json": {
       "model_id": "eafc0dfbd1014301a47db930efebbc2f",
       "version_major": 2,
       "version_minor": 0
      },
      "text/plain": [
       "VBox()"
      ]
     },
     "metadata": {},
     "output_type": "display_data"
    },
    {
     "data": {
      "application/vnd.jupyter.widget-view+json": {
       "model_id": "",
       "version_major": 2,
       "version_minor": 0
      },
      "text/plain": [
       "FloatProgress(value=0.0, bar_style='info', description='Progress:', layout=Layout(height='25px', width='50%'),…"
      ]
     },
     "metadata": {},
     "output_type": "display_data"
    },
    {
     "name": "stdout",
     "output_type": "stream",
     "text": [
      "df: org.apache.spark.sql.DataFrame = [_hoodie_commit_time: string, _hoodie_commit_seqno: string ... 12 more fields]\n",
      "+-------------------+--------------------+\n",
      "|_hoodie_commit_time|           o_comment|\n",
      "+-------------------+--------------------+\n",
      "|     00000000000001|ding requests. re...|\n",
      "+-------------------+--------------------+\n",
      "\n"
     ]
    }
   ],
   "source": [
    "val df = spark.sql(\"select * from hudi_order_table where o_orderkey=61102854\")\n",
    "df.select($\"_hoodie_commit_time\",$\"o_comment\").show()"
   ]
  },
  {
   "cell_type": "code",
   "execution_count": 13,
   "id": "c535223c",
   "metadata": {},
   "outputs": [
    {
     "data": {
      "application/vnd.jupyter.widget-view+json": {
       "model_id": "92159883ec4e4523ad3cc6e9ffcfe19e",
       "version_major": 2,
       "version_minor": 0
      },
      "text/plain": [
       "VBox()"
      ]
     },
     "metadata": {},
     "output_type": "display_data"
    },
    {
     "data": {
      "application/vnd.jupyter.widget-view+json": {
       "model_id": "",
       "version_major": 2,
       "version_minor": 0
      },
      "text/plain": [
       "FloatProgress(value=0.0, bar_style='info', description='Progress:', layout=Layout(height='25px', width='50%'),…"
      ]
     },
     "metadata": {},
     "output_type": "display_data"
    },
    {
     "name": "stdout",
     "output_type": "stream",
     "text": [
      "df2: org.apache.spark.sql.DataFrame = [_hoodie_commit_time: string, _hoodie_commit_seqno: string ... 12 more fields]\n",
      "+-------------------+-----------+\n",
      "|_hoodie_commit_time|  o_comment|\n",
      "+-------------------+-----------+\n",
      "|     00000000000001|hudi upsert|\n",
      "+-------------------+-----------+\n",
      "\n"
     ]
    }
   ],
   "source": [
    "val df2 = df.withColumn(\"o_comment\",lit(\"hudi upsert\"))\n",
    "df2.select($\"_hoodie_commit_time\",$\"o_comment\").show()"
   ]
  },
  {
   "cell_type": "code",
   "execution_count": 38,
   "id": "8101a824",
   "metadata": {},
   "outputs": [
    {
     "data": {
      "application/vnd.jupyter.widget-view+json": {
       "model_id": "53365792df0a4bfa8d7d22bed4c66653",
       "version_major": 2,
       "version_minor": 0
      },
      "text/plain": [
       "VBox()"
      ]
     },
     "metadata": {},
     "output_type": "display_data"
    },
    {
     "data": {
      "application/vnd.jupyter.widget-view+json": {
       "model_id": "",
       "version_major": 2,
       "version_minor": 0
      },
      "text/plain": [
       "FloatProgress(value=0.0, bar_style='info', description='Progress:', layout=Layout(height='25px', width='50%'),…"
      ]
     },
     "metadata": {},
     "output_type": "display_data"
    },
    {
     "name": "stdout",
     "output_type": "stream",
     "text": [
      "df4: org.apache.spark.sql.DataFrame = [_hoodie_commit_time: string, _hoodie_commit_seqno: string ... 12 more fields]\n",
      "+----------+-----------+\n",
      "|o_orderkey|o_orderdate|\n",
      "+----------+-----------+\n",
      "|     66666| 2020-02-02|\n",
      "+----------+-----------+\n",
      "\n"
     ]
    }
   ],
   "source": [
    "val df4 = df2.withColumn(\"o_orderkey\",lit(66666).cast(\"long\")).withColumn(\"o_orderdate\",lit(\"2020-02-02\"))\n",
    "df4.select($\"o_orderkey\",$\"o_orderdate\").show()"
   ]
  },
  {
   "cell_type": "code",
   "execution_count": 39,
   "id": "af73bb68",
   "metadata": {},
   "outputs": [
    {
     "data": {
      "application/vnd.jupyter.widget-view+json": {
       "model_id": "fc164009385f4cf4bcc0bc0b17f18c86",
       "version_major": 2,
       "version_minor": 0
      },
      "text/plain": [
       "VBox()"
      ]
     },
     "metadata": {},
     "output_type": "display_data"
    },
    {
     "data": {
      "application/vnd.jupyter.widget-view+json": {
       "model_id": "",
       "version_major": 2,
       "version_minor": 0
      },
      "text/plain": [
       "FloatProgress(value=0.0, bar_style='info', description='Progress:', layout=Layout(height='25px', width='50%'),…"
      ]
     },
     "metadata": {},
     "output_type": "display_data"
    },
    {
     "name": "stdout",
     "output_type": "stream",
     "text": [
      "root\n",
      " |-- _hoodie_commit_time: string (nullable = true)\n",
      " |-- _hoodie_commit_seqno: string (nullable = true)\n",
      " |-- _hoodie_record_key: string (nullable = true)\n",
      " |-- _hoodie_partition_path: string (nullable = true)\n",
      " |-- _hoodie_file_name: string (nullable = true)\n",
      " |-- o_orderkey: long (nullable = false)\n",
      " |-- o_custkey: long (nullable = true)\n",
      " |-- o_orderstatus: string (nullable = true)\n",
      " |-- o_totalprice: double (nullable = true)\n",
      " |-- o_orderdate: string (nullable = false)\n",
      " |-- o_orderpriority: string (nullable = true)\n",
      " |-- o_clerk: string (nullable = true)\n",
      " |-- o_shippriority: long (nullable = true)\n",
      " |-- o_comment: string (nullable = false)\n",
      "\n"
     ]
    }
   ],
   "source": [
    "df4.printSchema()"
   ]
  },
  {
   "cell_type": "code",
   "execution_count": 40,
   "id": "2a87fedc",
   "metadata": {},
   "outputs": [
    {
     "data": {
      "application/vnd.jupyter.widget-view+json": {
       "model_id": "f8fb94b8874743eea7e5ff350344d81e",
       "version_major": 2,
       "version_minor": 0
      },
      "text/plain": [
       "VBox()"
      ]
     },
     "metadata": {},
     "output_type": "display_data"
    },
    {
     "data": {
      "application/vnd.jupyter.widget-view+json": {
       "model_id": "",
       "version_major": 2,
       "version_minor": 0
      },
      "text/plain": [
       "FloatProgress(value=0.0, bar_style='info', description='Progress:', layout=Layout(height='25px', width='50%'),…"
      ]
     },
     "metadata": {},
     "output_type": "display_data"
    },
    {
     "name": "stdout",
     "output_type": "stream",
     "text": [
      "root\n",
      " |-- _hoodie_commit_time: string (nullable = true)\n",
      " |-- _hoodie_commit_seqno: string (nullable = true)\n",
      " |-- _hoodie_record_key: string (nullable = true)\n",
      " |-- _hoodie_partition_path: string (nullable = true)\n",
      " |-- _hoodie_file_name: string (nullable = true)\n",
      " |-- o_orderkey: long (nullable = true)\n",
      " |-- o_custkey: long (nullable = true)\n",
      " |-- o_orderstatus: string (nullable = true)\n",
      " |-- o_totalprice: double (nullable = true)\n",
      " |-- o_orderdate: string (nullable = true)\n",
      " |-- o_orderpriority: string (nullable = true)\n",
      " |-- o_clerk: string (nullable = true)\n",
      " |-- o_shippriority: long (nullable = true)\n",
      " |-- o_comment: string (nullable = true)\n",
      "\n"
     ]
    }
   ],
   "source": [
    "df.printSchema()"
   ]
  },
  {
   "cell_type": "code",
   "execution_count": 41,
   "id": "0d9d7ce4",
   "metadata": {},
   "outputs": [
    {
     "data": {
      "application/vnd.jupyter.widget-view+json": {
       "model_id": "de93ad3cb5714c2697ec4a3103cb4f01",
       "version_major": 2,
       "version_minor": 0
      },
      "text/plain": [
       "VBox()"
      ]
     },
     "metadata": {},
     "output_type": "display_data"
    },
    {
     "data": {
      "application/vnd.jupyter.widget-view+json": {
       "model_id": "",
       "version_major": 2,
       "version_minor": 0
      },
      "text/plain": [
       "FloatProgress(value=0.0, bar_style='info', description='Progress:', layout=Layout(height='25px', width='50%'),…"
      ]
     },
     "metadata": {},
     "output_type": "display_data"
    },
    {
     "name": "stdout",
     "output_type": "stream",
     "text": [
      "t1: Long = 39336913972304\n",
      "hudiConfigs: scala.collection.immutable.Map[String,String] = Map(hoodie.datasource.write.operation -> upsert, hoodie.datasource.write.precombine.field -> o_orderdate, hoodie.datasource.write.recordkey.field -> o_orderkey, hoodie.table.name -> hudi_order_table)\n",
      "duration: String = 52.391469485 seconds\n"
     ]
    }
   ],
   "source": [
    "val t1 = System.nanoTime\n",
    "\n",
    "val hudiConfigs = Map[String,String](\n",
    "  DataSourceWriteOptions.OPERATION_OPT_KEY -> DataSourceWriteOptions.UPSERT_OPERATION_OPT_VAL,\n",
    "  DataSourceWriteOptions.PRECOMBINE_FIELD_OPT_KEY -> \"o_orderdate\",\n",
    "  DataSourceWriteOptions.RECORDKEY_FIELD_OPT_KEY -> \"o_orderkey\",\n",
    "  HoodieWriteConfig.TABLE_NAME -> \"hudi_order_table\")\n",
    "\n",
    "(df4.write.format(\"hudi\")\n",
    "      .options(hudiConfigs)\n",
    "      .mode(SaveMode.Append)\n",
    "      .save(\"s3://vasveena-test-demo/hudi/hudi_order_table/\")) \n",
    "\n",
    "val duration = (System.nanoTime - t1) / 1e9d + \" seconds\""
   ]
  },
  {
   "cell_type": "code",
   "execution_count": 44,
   "id": "831971b4",
   "metadata": {},
   "outputs": [
    {
     "data": {
      "application/vnd.jupyter.widget-view+json": {
       "model_id": "6bb43663a1164200a54d685ff5093143",
       "version_major": 2,
       "version_minor": 0
      },
      "text/plain": [
       "VBox()"
      ]
     },
     "metadata": {},
     "output_type": "display_data"
    },
    {
     "data": {
      "application/vnd.jupyter.widget-view+json": {
       "model_id": "",
       "version_major": 2,
       "version_minor": 0
      },
      "text/plain": [
       "FloatProgress(value=0.0, bar_style='info', description='Progress:', layout=Layout(height='25px', width='50%'),…"
      ]
     },
     "metadata": {},
     "output_type": "display_data"
    },
    {
     "name": "stdout",
     "output_type": "stream",
     "text": [
      "df: org.apache.spark.sql.DataFrame = [_hoodie_commit_time: string, _hoodie_commit_seqno: string ... 12 more fields]\n",
      "+----------+-----------+\n",
      "|o_orderkey|  o_comment|\n",
      "+----------+-----------+\n",
      "|     66666|hudi upsert|\n",
      "+----------+-----------+\n",
      "\n"
     ]
    }
   ],
   "source": [
    "val df = spark.sql(\"select * from hudi_order_table where o_orderkey=66666\")\n",
    "df.select($\"o_orderkey\",$\"o_comment\").show()"
   ]
  },
  {
   "cell_type": "code",
   "execution_count": null,
   "id": "348412c3",
   "metadata": {},
   "outputs": [],
   "source": []
  }
 ],
 "metadata": {
  "kernelspec": {
   "display_name": "Spark",
   "language": "",
   "name": "sparkkernel"
  },
  "language_info": {
   "codemirror_mode": "text/x-scala",
   "mimetype": "text/x-scala",
   "name": "scala",
   "pygments_lexer": "scala"
  }
 },
 "nbformat": 4,
 "nbformat_minor": 5
}
